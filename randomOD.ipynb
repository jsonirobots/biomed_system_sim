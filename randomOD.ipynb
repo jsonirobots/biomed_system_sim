{
 "cells": [
  {
   "cell_type": "code",
   "execution_count": 1,
   "id": "838099a4-4a90-422e-85f8-cab2421de6f9",
   "metadata": {},
   "outputs": [],
   "source": [
    "import random\n",
    "import pandas as pd\n",
    "import numpy as np\n",
    "import matplotlib.pyplot as plt\n",
    "import matplotlib.patches as patches\n",
    "import geopandas as gpd\n",
    "from geopandas import GeoDataFrame\n",
    "from shapely.geometry import Point\n",
    "from itertools import compress"
   ]
  },
  {
   "cell_type": "markdown",
   "id": "80e60e4c-3a1c-4a07-bbc5-9f2f0650fc4b",
   "metadata": {},
   "source": [
    "<h3>Retrieve <code>od_dfs</code> (same as used in raw_data_vis.ipynb)</h3>"
   ]
  },
  {
   "cell_type": "code",
   "execution_count": 2,
   "id": "3c6c0532-4cdb-4afe-bb33-41485d70188c",
   "metadata": {},
   "outputs": [],
   "source": [
    "od_files=[\"data_2016.csv\",\"data_2017.csv\",\"data_2018.csv\",\"data_2019.csv\"]\n",
    "years = [name.split(\".csv\")[0].split(\"_\")[1] for name in od_files]"
   ]
  },
  {
   "cell_type": "code",
   "execution_count": 3,
   "id": "6f17f221-dff0-4347-ad34-4afabf36cda6",
   "metadata": {},
   "outputs": [],
   "source": [
    "od_dfs = []\n",
    "for yr in years:\n",
    "    df = gpd.read_file(\"data/saved_odDFs/Dataframe_OD_\"+str(yr)+\".shp\")\n",
    "    df = df.set_index('county')\n",
    "    od_dfs.append(df)"
   ]
  },
  {
   "cell_type": "markdown",
   "id": "c983e510-4ca8-41f5-85f3-6c5535c3852b",
   "metadata": {},
   "source": [
    "# Generate random OD events based on historical data"
   ]
  },
  {
   "cell_type": "code",
   "execution_count": 4,
   "id": "11ae4b9f-8384-4721-b0f3-aa65f7092049",
   "metadata": {},
   "outputs": [],
   "source": [
    "od_history = od_dfs[0][['geometry']].copy()\n",
    "maxODs = []\n",
    "minODs = []\n",
    "for county in od_history.index:\n",
    "    allODs = []\n",
    "    for i in range(len(od_dfs)):\n",
    "        allODs.append(int(od_dfs[i]['od_count'][county]))\n",
    "    maxODs.append(max(allODs))\n",
    "    minODs.append(min(allODs))\n",
    "\n",
    "od_history['maxODcount'] = maxODs\n",
    "od_history['minODcount'] = minODs"
   ]
  },
  {
   "cell_type": "markdown",
   "id": "561d056d-a226-4dce-b19c-8b37b13abb10",
   "metadata": {},
   "source": [
    "We now have max/min OD counts for each county based on past data. We can generate a random number of simulated OD calls that's within this range to simulate fluctuation."
   ]
  },
  {
   "cell_type": "markdown",
   "id": "4c5323af-22e5-4b16-bbf3-a1879ffd6cfe",
   "metadata": {},
   "source": [
    "Furthermore, since this data is for the entire year, we can add randomness to the days on which these calls are generated. <br>\n",
    "A maximum duplicate value can be set, to ensure we don't run into a situation where all the calls happen on the same day."
   ]
  },
  {
   "cell_type": "markdown",
   "id": "441fae71-4452-4534-816e-f48bb4ab9b43",
   "metadata": {},
   "source": [
    "for county in counties:\n",
    "    N = random.randint(1,maxN) # maxN is max number of days in a year when ODs can happen max(total ODs,days in yr)\n",
    "    days = random.sample(range(0,365),N) # where N is number of days\n",
    "    odN = random.randint(minOD,maxOD) # odN is the number of annual cases we will have\n",
    "    leftover = odN # cases left to simulate\n",
    "    for day in days:\n",
    "        if leftover> 0 :\n",
    "            K = random.randint(0,maxK /* odN) # K is num of cases/day, maxK is max cases a day (% of annual cases)\n",
    "            leftover = odN - K\n",
    "            ... something to randomly locate these cases on a map"
   ]
  },
  {
   "cell_type": "code",
   "execution_count": 40,
   "id": "afe089fd-65ae-4686-9401-9f132b71f0ea",
   "metadata": {},
   "outputs": [],
   "source": [
    "def generateRandomPts(geometry,n):\n",
    "    generated = 0\n",
    "    ptslist = []\n",
    "    minX,minY,maxX,maxY = geometry.bounds\n",
    "    while generated < n:\n",
    "        x = np.random.uniform(minX,maxX,n)\n",
    "        y = np.random.uniform(minY,maxY,n)\n",
    "        \n",
    "        pts = [Point(xi,yi) for xi,yi in zip(x,y)]\n",
    "        \n",
    "        contained = geometry.contains(pts)\n",
    "        generated += contained.sum()\n",
    "        ptslist+=list(compress(pts,contained))\n",
    "    return GeoDataFrame(ptslist[:n]).rename(columns={0:'odpts'})"
   ]
  },
  {
   "cell_type": "code",
   "execution_count": 84,
   "id": "dfa9c35f-8368-458b-a638-a896d9a09a53",
   "metadata": {},
   "outputs": [],
   "source": [
    "daysYr = 365\n",
    "printOutput = False\n",
    "\n",
    "for countyName,countygeo,maxOD,minOD in zip(od_history.index,od_history['geometry'],od_history['maxODcount'],od_history['maxODcount']):\n",
    "    maxDays = min(maxOD,daysYr) # max number of days with OD is either max possible OD count or num of days in a year\n",
    "    numDays = random.randint(0,maxDays) # number of days that will have OD cases, minimum 1 day\n",
    "    days = random.sample(range(0,daysYr),numDays) # the actual days in which ODs will occur, sample size is the number of days we want ODs\n",
    "    \n",
    "    odYr = random.randint(minOD,maxOD) # count of OD cases that will occur annually, within historical margins\n",
    "    odRemaining = odYr # as we go through the year, variable to store leftover cases\n",
    "    \n",
    "    # We need to set a limit for max OD in a day, to prevent annual OD numbers from happening in a single day\n",
    "    # However, a single percentage will limit smaller counties to 1 case/day, whereas large counties will have too many/day\n",
    "    # Thus, we have a piecewise scale. Let N = number of cases a year, then\n",
    "    # N >= 100, max 1% of annual cases a day (roughly 1-20 cases/day on IN data)\n",
    "    # N >= 10, max 5% of annual cases a day (roughly 1-5 cases/day on IN data)\n",
    "    # N >= 0, max 30% of annual cases a day (roughly 1-3 cases/day on IN data)\n",
    "    maxODday = 0.01 if odYr>=100 else (0.05 if odYr >=10 else 0.3)\n",
    "    if printOutput: print(str(countyName)+\" has: \")\n",
    "    for day in days: # go through each day we have OD\n",
    "        if odRemaining > 0: # as long as we still have cases to left simulate for the year\n",
    "            odDay = random.randint(0,np.ceil(maxODday*odYr)) # number of cases on this day\n",
    "            odRemaining = odYr - odDay\n",
    "            if odDay == 0:\n",
    "                continue\n",
    "            else:\n",
    "                odpts = generateRandomPts(countygeo,odDay)\n",
    "                break\n",
    "            if printOutput: print(\"Day \"+str(day)+\", \"+str(odDay)+\" case(s). | \",end='')\n",
    "            \n",
    "        else:\n",
    "            continue\n",
    "    if printOutput: print(\"\\n\")\n",
    "    break"
   ]
  },
  {
   "cell_type": "code",
   "execution_count": 85,
   "id": "a8770831-c9ad-4b16-88bc-ba05d6a3929a",
   "metadata": {},
   "outputs": [
    {
     "data": {
      "text/plain": [
       "[<matplotlib.lines.Line2D at 0x2db8e859720>]"
      ]
     },
     "execution_count": 85,
     "metadata": {},
     "output_type": "execute_result"
    },
    {
     "data": {
      "image/png": "[encoded data removed]",
      "text/plain": [
       "<Figure size 640x480 with 1 Axes>"
      ]
     },
     "metadata": {},
     "output_type": "display_data"
    }
   ],
   "source": [
    "ax = od_history.plot()\n",
    "plt.plot([row.x for row in odpts['odpts']],[row.y for row in odpts['odpts']],'o',markersize=5,color='red')"
   ]
  },
  {
   "cell_type": "code",
   "execution_count": 35,
   "id": "5dc83867-3ee6-4f50-a0a6-08f1983b9051",
   "metadata": {},
   "outputs": [
    {
     "data": {
      "text/html": [
       "<div>\n",
       "<style scoped>\n",
       "    .dataframe tbody tr th:only-of-type {\n",
       "        vertical-align: middle;\n",
       "    }\n",
       "\n",
       "    .dataframe tbody tr th {\n",
       "        vertical-align: top;\n",
       "    }\n",
       "\n",
       "    .dataframe thead th {\n",
       "        text-align: right;\n",
       "    }\n",
       "</style>\n",
       "<table border=\"1\" class=\"dataframe\">\n",
       "  <thead>\n",
       "    <tr style=\"text-align: right;\">\n",
       "      <th></th>\n",
       "      <th>odpts</th>\n",
       "    </tr>\n",
       "  </thead>\n",
       "  <tbody>\n",
       "    <tr>\n",
       "      <th>0</th>\n",
       "      <td>POINT (-9467272.63247533 5000047.031360216)</td>\n",
       "    </tr>\n",
       "    <tr>\n",
       "      <th>1</th>\n",
       "      <td>POINT (-9445868.057026263 4956082.007941794)</td>\n",
       "    </tr>\n",
       "  </tbody>\n",
       "</table>\n",
       "</div>"
      ],
      "text/plain": [
       "                                          odpts\n",
       "0   POINT (-9467272.63247533 5000047.031360216)\n",
       "1  POINT (-9445868.057026263 4956082.007941794)"
      ]
     },
     "execution_count": 35,
     "metadata": {},
     "output_type": "execute_result"
    }
   ],
   "source": [
    "odpts"
   ]
  },
  {
   "cell_type": "code",
   "execution_count": 262,
   "id": "f8c57217-678e-4506-b63b-431d51b5f777",
   "metadata": {},
   "outputs": [],
   "source": [
    "geo = od_history['geometry']['Spencer']\n",
    "x1,y1,x2,y2 = geo.bounds\n",
    "n=100\n",
    "x = np.random.uniform(x1,x2,n)\n",
    "y = np.random.uniform(y1,y2,n)"
   ]
  },
  {
   "cell_type": "code",
   "execution_count": 270,
   "id": "eb2b93f6-7783-4ff8-bd7c-bd0d72c19b82",
   "metadata": {},
   "outputs": [],
   "source": [
    "pts = ([Point(xi,yi) for xi,yi in zip(x,y)])"
   ]
  },
  {
   "cell_type": "code",
   "execution_count": 275,
   "id": "f4313cd1-2297-44da-b336-636aade2e046",
   "metadata": {},
   "outputs": [
    {
     "data": {
      "text/plain": [
       "[<POINT (-9691247.256 4557455.828)>,\n",
       " <POINT (-9669999.499 4594157.362)>,\n",
       " <POINT (-9698160.534 4569427.212)>,\n",
       " <POINT (-9687040.395 4593512.354)>,\n",
       " <POINT (-9676049.249 4573084.244)>,\n",
       " <POINT (-9702666.879 4558663.753)>,\n",
       " <POINT (-9686433.03 4584823.051)>,\n",
       " <POINT (-9674065.079 4593541.88)>,\n",
       " <POINT (-9686108.618 4603803.418)>,\n",
       " <POINT (-9663551.578 4582149.027)>,\n",
       " <POINT (-9693819.619 4579340.885)>,\n",
       " <POINT (-9697801.353 4585004.287)>,\n",
       " <POINT (-9670052.986 4585059.934)>,\n",
       " <POINT (-9681840.702 4598455.89)>,\n",
       " <POINT (-9692881.539 4565520.633)>,\n",
       " <POINT (-9687479.158 4567903.636)>,\n",
       " <POINT (-9703657.917 4571065.63)>,\n",
       " <POINT (-9664440.834 4607806.278)>,\n",
       " <POINT (-9693541.903 4551994.5)>,\n",
       " <POINT (-9666452.104 4584500.071)>,\n",
       " <POINT (-9677707.281 4571680.158)>,\n",
       " <POINT (-9675203.171 4579555.357)>,\n",
       " <POINT (-9700440.529 4577808.298)>,\n",
       " <POINT (-9680981.282 4577052.594)>,\n",
       " <POINT (-9666807.014 4602271.725)>,\n",
       " <POINT (-9712014.673 4563509.066)>,\n",
       " <POINT (-9674813.109 4572359.277)>,\n",
       " <POINT (-9667713.23 4598945.19)>,\n",
       " <POINT (-9669933.157 4607220.227)>,\n",
       " <POINT (-9662706.935 4598948.948)>,\n",
       " <POINT (-9696822.962 4585807.675)>,\n",
       " <POINT (-9693051.603 4560477.352)>,\n",
       " <POINT (-9682372.103 4596838.645)>,\n",
       " <POINT (-9668326.574 4600103.143)>,\n",
       " <POINT (-9678118.641 4585413.629)>,\n",
       " <POINT (-9679679.978 4603037.565)>,\n",
       " <POINT (-9682026.524 4597983.413)>,\n",
       " <POINT (-9664138.926 4587703.023)>,\n",
       " <POINT (-9667014.983 4584926.844)>,\n",
       " <POINT (-9683788.627 4577794.857)>,\n",
       " <POINT (-9673265.709 4599866.78)>,\n",
       " <POINT (-9693284.155 4573919.45)>,\n",
       " <POINT (-9685867.303 4589051.541)>,\n",
       " <POINT (-9693622.775 4567792.687)>,\n",
       " <POINT (-9683116.38 4573984.218)>,\n",
       " <POINT (-9667023.725 4581058.363)>]"
      ]
     },
     "execution_count": 275,
     "metadata": {},
     "output_type": "execute_result"
    }
   ],
   "source": [
    "list(compress(pts,geo.contains(pts)))"
   ]
  },
  {
   "cell_type": "code",
   "execution_count": 278,
   "id": "9972db5c-afc9-4ba8-b196-d00754a084f3",
   "metadata": {},
   "outputs": [
    {
     "data": {
      "text/html": [
       "<div>\n",
       "<style scoped>\n",
       "    .dataframe tbody tr th:only-of-type {\n",
       "        vertical-align: middle;\n",
       "    }\n",
       "\n",
       "    .dataframe tbody tr th {\n",
       "        vertical-align: top;\n",
       "    }\n",
       "\n",
       "    .dataframe thead th {\n",
       "        text-align: right;\n",
       "    }\n",
       "</style>\n",
       "<table border=\"1\" class=\"dataframe\">\n",
       "  <thead>\n",
       "    <tr style=\"text-align: right;\">\n",
       "      <th></th>\n",
       "      <th>pointslol</th>\n",
       "    </tr>\n",
       "  </thead>\n",
       "  <tbody>\n",
       "    <tr>\n",
       "      <th>0</th>\n",
       "      <td>POINT (-9691247.255896388 4557455.82831754)</td>\n",
       "    </tr>\n",
       "    <tr>\n",
       "      <th>1</th>\n",
       "      <td>POINT (-9669999.498721136 4594157.362248644)</td>\n",
       "    </tr>\n",
       "    <tr>\n",
       "      <th>2</th>\n",
       "      <td>POINT (-9698160.53421505 4569427.21189883)</td>\n",
       "    </tr>\n",
       "    <tr>\n",
       "      <th>3</th>\n",
       "      <td>POINT (-9687040.394756248 4593512.35402325)</td>\n",
       "    </tr>\n",
       "    <tr>\n",
       "      <th>4</th>\n",
       "      <td>POINT (-9676049.249373117 4573084.243525416)</td>\n",
       "    </tr>\n",
       "    <tr>\n",
       "      <th>5</th>\n",
       "      <td>POINT (-9702666.879432913 4558663.753341853)</td>\n",
       "    </tr>\n",
       "    <tr>\n",
       "      <th>6</th>\n",
       "      <td>POINT (-9686433.03020957 4584823.050858488)</td>\n",
       "    </tr>\n",
       "    <tr>\n",
       "      <th>7</th>\n",
       "      <td>POINT (-9674065.078824194 4593541.879735671)</td>\n",
       "    </tr>\n",
       "    <tr>\n",
       "      <th>8</th>\n",
       "      <td>POINT (-9686108.61792492 4603803.417969059)</td>\n",
       "    </tr>\n",
       "    <tr>\n",
       "      <th>9</th>\n",
       "      <td>POINT (-9663551.57847512 4582149.0274314005)</td>\n",
       "    </tr>\n",
       "    <tr>\n",
       "      <th>10</th>\n",
       "      <td>POINT (-9693819.619251354 4579340.885430476)</td>\n",
       "    </tr>\n",
       "    <tr>\n",
       "      <th>11</th>\n",
       "      <td>POINT (-9697801.352711568 4585004.286836539)</td>\n",
       "    </tr>\n",
       "    <tr>\n",
       "      <th>12</th>\n",
       "      <td>POINT (-9670052.985889427 4585059.934158133)</td>\n",
       "    </tr>\n",
       "    <tr>\n",
       "      <th>13</th>\n",
       "      <td>POINT (-9681840.701833928 4598455.889958395)</td>\n",
       "    </tr>\n",
       "    <tr>\n",
       "      <th>14</th>\n",
       "      <td>POINT (-9692881.53855896 4565520.632729166)</td>\n",
       "    </tr>\n",
       "    <tr>\n",
       "      <th>15</th>\n",
       "      <td>POINT (-9687479.158471536 4567903.6355470875)</td>\n",
       "    </tr>\n",
       "    <tr>\n",
       "      <th>16</th>\n",
       "      <td>POINT (-9703657.916629013 4571065.630065309)</td>\n",
       "    </tr>\n",
       "    <tr>\n",
       "      <th>17</th>\n",
       "      <td>POINT (-9664440.833807094 4607806.278207577)</td>\n",
       "    </tr>\n",
       "    <tr>\n",
       "      <th>18</th>\n",
       "      <td>POINT (-9693541.903356563 4551994.500312438)</td>\n",
       "    </tr>\n",
       "    <tr>\n",
       "      <th>19</th>\n",
       "      <td>POINT (-9666452.103851223 4584500.0706041325)</td>\n",
       "    </tr>\n",
       "    <tr>\n",
       "      <th>20</th>\n",
       "      <td>POINT (-9677707.281132666 4571680.15766518)</td>\n",
       "    </tr>\n",
       "    <tr>\n",
       "      <th>21</th>\n",
       "      <td>POINT (-9675203.171198737 4579555.357193029)</td>\n",
       "    </tr>\n",
       "    <tr>\n",
       "      <th>22</th>\n",
       "      <td>POINT (-9700440.528826257 4577808.297951539)</td>\n",
       "    </tr>\n",
       "    <tr>\n",
       "      <th>23</th>\n",
       "      <td>POINT (-9680981.281604327 4577052.594380115)</td>\n",
       "    </tr>\n",
       "    <tr>\n",
       "      <th>24</th>\n",
       "      <td>POINT (-9666807.013705809 4602271.724507854)</td>\n",
       "    </tr>\n",
       "    <tr>\n",
       "      <th>25</th>\n",
       "      <td>POINT (-9712014.672966588 4563509.065610691)</td>\n",
       "    </tr>\n",
       "    <tr>\n",
       "      <th>26</th>\n",
       "      <td>POINT (-9674813.109195292 4572359.27715135)</td>\n",
       "    </tr>\n",
       "    <tr>\n",
       "      <th>27</th>\n",
       "      <td>POINT (-9667713.229558786 4598945.189625671)</td>\n",
       "    </tr>\n",
       "    <tr>\n",
       "      <th>28</th>\n",
       "      <td>POINT (-9669933.157496199 4607220.227444007)</td>\n",
       "    </tr>\n",
       "    <tr>\n",
       "      <th>29</th>\n",
       "      <td>POINT (-9662706.935008667 4598948.947848503)</td>\n",
       "    </tr>\n",
       "    <tr>\n",
       "      <th>30</th>\n",
       "      <td>POINT (-9696822.96157817 4585807.674586783)</td>\n",
       "    </tr>\n",
       "    <tr>\n",
       "      <th>31</th>\n",
       "      <td>POINT (-9693051.603383826 4560477.351763073)</td>\n",
       "    </tr>\n",
       "    <tr>\n",
       "      <th>32</th>\n",
       "      <td>POINT (-9682372.103012268 4596838.645284944)</td>\n",
       "    </tr>\n",
       "    <tr>\n",
       "      <th>33</th>\n",
       "      <td>POINT (-9668326.574056141 4600103.142842394)</td>\n",
       "    </tr>\n",
       "    <tr>\n",
       "      <th>34</th>\n",
       "      <td>POINT (-9678118.641413579 4585413.629327495)</td>\n",
       "    </tr>\n",
       "    <tr>\n",
       "      <th>35</th>\n",
       "      <td>POINT (-9679679.9775311 4603037.565301931)</td>\n",
       "    </tr>\n",
       "    <tr>\n",
       "      <th>36</th>\n",
       "      <td>POINT (-9682026.523711488 4597983.412926659)</td>\n",
       "    </tr>\n",
       "    <tr>\n",
       "      <th>37</th>\n",
       "      <td>POINT (-9664138.925560305 4587703.023245027)</td>\n",
       "    </tr>\n",
       "    <tr>\n",
       "      <th>38</th>\n",
       "      <td>POINT (-9667014.982533075 4584926.844047432)</td>\n",
       "    </tr>\n",
       "    <tr>\n",
       "      <th>39</th>\n",
       "      <td>POINT (-9683788.626769146 4577794.857228214)</td>\n",
       "    </tr>\n",
       "    <tr>\n",
       "      <th>40</th>\n",
       "      <td>POINT (-9673265.709313424 4599866.779855959)</td>\n",
       "    </tr>\n",
       "    <tr>\n",
       "      <th>41</th>\n",
       "      <td>POINT (-9693284.154640827 4573919.450084589)</td>\n",
       "    </tr>\n",
       "    <tr>\n",
       "      <th>42</th>\n",
       "      <td>POINT (-9685867.302588187 4589051.54085246)</td>\n",
       "    </tr>\n",
       "    <tr>\n",
       "      <th>43</th>\n",
       "      <td>POINT (-9693622.775430912 4567792.687194164)</td>\n",
       "    </tr>\n",
       "    <tr>\n",
       "      <th>44</th>\n",
       "      <td>POINT (-9683116.379976872 4573984.218107503)</td>\n",
       "    </tr>\n",
       "    <tr>\n",
       "      <th>45</th>\n",
       "      <td>POINT (-9667023.724888565 4581058.362644431)</td>\n",
       "    </tr>\n",
       "  </tbody>\n",
       "</table>\n",
       "</div>"
      ],
      "text/plain": [
       "                                        pointslol\n",
       "0     POINT (-9691247.255896388 4557455.82831754)\n",
       "1    POINT (-9669999.498721136 4594157.362248644)\n",
       "2      POINT (-9698160.53421505 4569427.21189883)\n",
       "3     POINT (-9687040.394756248 4593512.35402325)\n",
       "4    POINT (-9676049.249373117 4573084.243525416)\n",
       "5    POINT (-9702666.879432913 4558663.753341853)\n",
       "6     POINT (-9686433.03020957 4584823.050858488)\n",
       "7    POINT (-9674065.078824194 4593541.879735671)\n",
       "8     POINT (-9686108.61792492 4603803.417969059)\n",
       "9    POINT (-9663551.57847512 4582149.0274314005)\n",
       "10   POINT (-9693819.619251354 4579340.885430476)\n",
       "11   POINT (-9697801.352711568 4585004.286836539)\n",
       "12   POINT (-9670052.985889427 4585059.934158133)\n",
       "13   POINT (-9681840.701833928 4598455.889958395)\n",
       "14    POINT (-9692881.53855896 4565520.632729166)\n",
       "15  POINT (-9687479.158471536 4567903.6355470875)\n",
       "16   POINT (-9703657.916629013 4571065.630065309)\n",
       "17   POINT (-9664440.833807094 4607806.278207577)\n",
       "18   POINT (-9693541.903356563 4551994.500312438)\n",
       "19  POINT (-9666452.103851223 4584500.0706041325)\n",
       "20    POINT (-9677707.281132666 4571680.15766518)\n",
       "21   POINT (-9675203.171198737 4579555.357193029)\n",
       "22   POINT (-9700440.528826257 4577808.297951539)\n",
       "23   POINT (-9680981.281604327 4577052.594380115)\n",
       "24   POINT (-9666807.013705809 4602271.724507854)\n",
       "25   POINT (-9712014.672966588 4563509.065610691)\n",
       "26    POINT (-9674813.109195292 4572359.27715135)\n",
       "27   POINT (-9667713.229558786 4598945.189625671)\n",
       "28   POINT (-9669933.157496199 4607220.227444007)\n",
       "29   POINT (-9662706.935008667 4598948.947848503)\n",
       "30    POINT (-9696822.96157817 4585807.674586783)\n",
       "31   POINT (-9693051.603383826 4560477.351763073)\n",
       "32   POINT (-9682372.103012268 4596838.645284944)\n",
       "33   POINT (-9668326.574056141 4600103.142842394)\n",
       "34   POINT (-9678118.641413579 4585413.629327495)\n",
       "35     POINT (-9679679.9775311 4603037.565301931)\n",
       "36   POINT (-9682026.523711488 4597983.412926659)\n",
       "37   POINT (-9664138.925560305 4587703.023245027)\n",
       "38   POINT (-9667014.982533075 4584926.844047432)\n",
       "39   POINT (-9683788.626769146 4577794.857228214)\n",
       "40   POINT (-9673265.709313424 4599866.779855959)\n",
       "41   POINT (-9693284.154640827 4573919.450084589)\n",
       "42    POINT (-9685867.302588187 4589051.54085246)\n",
       "43   POINT (-9693622.775430912 4567792.687194164)\n",
       "44   POINT (-9683116.379976872 4573984.218107503)\n",
       "45   POINT (-9667023.724888565 4581058.362644431)"
      ]
     },
     "execution_count": 278,
     "metadata": {},
     "output_type": "execute_result"
    }
   ],
   "source": [
    "GeoDataFrame(list(compress(pts,geo.contains(pts)))).rename(columns={0:'pointslol'})"
   ]
  },
  {
   "cell_type": "code",
   "execution_count": 10,
   "id": "bd8b534c-8b2f-44fb-a2cc-d134e0d5285f",
   "metadata": {},
   "outputs": [],
   "source": [
    "biglst = [1,2,3,4,5,6,7,8,9]\n",
    "n = [266,66]"
   ]
  },
  {
   "cell_type": "code",
   "execution_count": 11,
   "id": "97b718a1-b0fe-4583-8fc0-b47baa7890c6",
   "metadata": {},
   "outputs": [
    {
     "data": {
      "text/plain": [
       "[1, 2, 3, 4, 5, 6, 7, 8, 9, 266, 66]"
      ]
     },
     "execution_count": 11,
     "metadata": {},
     "output_type": "execute_result"
    }
   ],
   "source": [
    "biglst+n"
   ]
  },
  {
   "cell_type": "code",
   "execution_count": 280,
   "id": "cf0e0035-81d7-4e0c-8950-08e768211820",
   "metadata": {},
   "outputs": [
    {
     "data": {
      "text/plain": [
       "[1, 2, 3, 4]"
      ]
     },
     "execution_count": 280,
     "metadata": {},
     "output_type": "execute_result"
    }
   ],
   "source": [
    "biglst[:n]"
   ]
  },
  {
   "cell_type": "code",
   "execution_count": 178,
   "id": "2a464339-0d87-4fe4-9dd9-45ba3226001a",
   "metadata": {},
   "outputs": [
    {
     "data": {
      "text/plain": [
       "(-9610002.470860107, 4812634.328610508, -9566505.270388562, 4855396.685822271)"
      ]
     },
     "execution_count": 178,
     "metadata": {},
     "output_type": "execute_result"
    }
   ],
   "source": [
    "od_history['geometry']['Marion'].bounds"
   ]
  },
  {
   "cell_type": "code",
   "execution_count": null,
   "id": "6e9f62d2-1c4b-4450-8e65-88fad55f6a7d",
   "metadata": {},
   "outputs": [],
   "source": []
  }
 ],
 "metadata": {
  "kernelspec": {
   "display_name": "Python 3 (ipykernel)",
   "language": "python",
   "name": "python3"
  },
  "language_info": {
   "codemirror_mode": {
    "name": "ipython",
    "version": 3
   },
   "file_extension": ".py",
   "mimetype": "text/x-python",
   "name": "python",
   "nbconvert_exporter": "python",
   "pygments_lexer": "ipython3",
   "version": "3.10.4"
  }
 },
 "nbformat": 4,
 "nbformat_minor": 5
}
