{
 "cells": [
  {
   "cell_type": "code",
   "execution_count": 1,
   "id": "838099a4-4a90-422e-85f8-cab2421de6f9",
   "metadata": {},
   "outputs": [],
   "source": [
    "import os\n",
    "import chardet\n",
    "import random\n",
    "import pandas as pd\n",
    "import numpy as np\n",
    "import matplotlib.pyplot as plt\n",
    "import matplotlib.patches as patches\n",
    "import geopandas as gpd\n",
    "from geopandas import GeoDataFrame\n",
    "from shapely.geometry import Point\n",
    "from itertools import compress"
   ]
  },
  {
   "cell_type": "markdown",
   "id": "9205d59c-e882-44ba-bfac-4d1869d8be54",
   "metadata": {},
   "source": [
    "# Get Fire and Police Station Data"
   ]
  },
  {
   "cell_type": "code",
   "execution_count": 4,
   "id": "838a4962-8ef8-4251-836c-aca820d4f4a6",
   "metadata": {
    "tags": []
   },
   "outputs": [],
   "source": [
    "def getPoints(df):\n",
    "    df = df[\"WKT\"].str.strip(\"POINT (\")\n",
    "    df = df.str.strip(\")\")\n",
    "    df = df.str.split(\" \",expand=True)\n",
    "    df = GeoDataFrame(df,geometry=[Point(xy) for xy in zip(df[0], df[1])],crs=4326)\n",
    "    return df"
   ]
  },
  {
   "cell_type": "code",
   "execution_count": 5,
   "id": "535525ce-65f2-43f3-8b1f-c3e4fe373e8e",
   "metadata": {
    "tags": []
   },
   "outputs": [],
   "source": [
    "police_raw = pd.read_csv(\"data/map_data/indiana-police-stations.csv\")\n",
    "fire_raw = pd.read_csv(\"data/map_data/indiana-fire-stations.csv\")\n",
    "\n",
    "police_pts = getPoints(police_raw)\n",
    "fire_pts = getPoints(fire_raw)\n",
    "police_pts = police_pts.to_crs(epsg=3857) # WEB MERCATOR (EPSG: 3857), Widely accepted projection, in meters\n",
    "fire_pts = fire_pts.to_crs(epsg=3857) # WEB MERCATOR (EPSG: 3857), Widely accepted projection, in meters"
   ]
  },
  {
   "cell_type": "markdown",
   "id": "80e60e4c-3a1c-4a07-bbc5-9f2f0650fc4b",
   "metadata": {},
   "source": [
    "<h3>Retrieve <code>od_dfs</code> (same as used in raw_data_vis.ipynb)</h3>"
   ]
  },
  {
   "cell_type": "code",
   "execution_count": 6,
   "id": "3c6c0532-4cdb-4afe-bb33-41485d70188c",
   "metadata": {},
   "outputs": [],
   "source": [
    "od_files=[\"data_2016.csv\",\"data_2017.csv\",\"data_2018.csv\",\"data_2019.csv\"]\n",
    "years = [name.split(\".csv\")[0].split(\"_\")[1] for name in od_files]"
   ]
  },
  {
   "cell_type": "code",
   "execution_count": 7,
   "id": "6f17f221-dff0-4347-ad34-4afabf36cda6",
   "metadata": {},
   "outputs": [],
   "source": [
    "od_dfs = []\n",
    "for yr in years:\n",
    "    df = gpd.read_file(\"data/saved_odDFs/Dataframe_OD_\"+str(yr)+\".shp\")\n",
    "    df = df.set_index('county')\n",
    "    od_dfs.append(df)"
   ]
  },
  {
   "cell_type": "markdown",
   "id": "c983e510-4ca8-41f5-85f3-6c5535c3852b",
   "metadata": {},
   "source": [
    "# Generate random OD events based on historical data"
   ]
  },
  {
   "cell_type": "code",
   "execution_count": 8,
   "id": "11ae4b9f-8384-4721-b0f3-aa65f7092049",
   "metadata": {},
   "outputs": [],
   "source": [
    "od_history = od_dfs[0][['geometry']].copy()\n",
    "maxODs = []\n",
    "minODs = []\n",
    "for county in od_history.index:\n",
    "    allODs = []\n",
    "    for i in range(len(od_dfs)):\n",
    "        allODs.append(int(od_dfs[i]['od_count'][county]))\n",
    "    maxODs.append(max(allODs))\n",
    "    minODs.append(min(allODs))\n",
    "\n",
    "od_history['maxODcount'] = maxODs\n",
    "od_history['minODcount'] = minODs"
   ]
  },
  {
   "cell_type": "markdown",
   "id": "561d056d-a226-4dce-b19c-8b37b13abb10",
   "metadata": {},
   "source": [
    "We now have max/min OD counts for each county based on past data. We can generate a random number of simulated OD calls that's within this range to simulate fluctuation."
   ]
  },
  {
   "cell_type": "markdown",
   "id": "4c5323af-22e5-4b16-bbf3-a1879ffd6cfe",
   "metadata": {},
   "source": [
    "Furthermore, since this data is for the entire year, we can add randomness to the days on which these calls are generated. <br>\n",
    "A maximum duplicate value can be set, to ensure we don't run into a situation where all the calls happen on the same day."
   ]
  },
  {
   "cell_type": "markdown",
   "id": "441fae71-4452-4534-816e-f48bb4ab9b43",
   "metadata": {},
   "source": [
    "for county in counties:\n",
    "    N = random.randint(1,maxN) # maxN is max number of days in a year when ODs can happen max(total ODs,days in yr)\n",
    "    days = random.sample(range(0,365),N) # where N is number of days\n",
    "    odN = random.randint(minOD,maxOD) # odN is the number of annual cases we will have\n",
    "    leftover = odN # cases left to simulate\n",
    "    for day in days:\n",
    "        if leftover> 0 :\n",
    "            K = random.randint(0,maxK /* odN) # K is num of cases/day, maxK is max cases a day (% of annual cases)\n",
    "            leftover = odN - K\n",
    "            ... something to randomly locate these cases on a map"
   ]
  },
  {
   "cell_type": "code",
   "execution_count": 9,
   "id": "afe089fd-65ae-4686-9401-9f132b71f0ea",
   "metadata": {},
   "outputs": [],
   "source": [
    "def generateRandomPts(geometry,n):\n",
    "    generated = 0\n",
    "    ptslist = []\n",
    "    minX,minY,maxX,maxY = geometry.bounds\n",
    "    while generated < n:\n",
    "        x = np.random.uniform(minX,maxX,n)\n",
    "        y = np.random.uniform(minY,maxY,n)\n",
    "        \n",
    "        pts = [Point(xi,yi) for xi,yi in zip(x,y)]\n",
    "        \n",
    "        contained = geometry.contains(pts)\n",
    "        generated += contained.sum()\n",
    "        ptslist+=list(compress(pts,contained))\n",
    "    return GeoDataFrame(ptslist[:n]).rename(columns={0:'odpts'})"
   ]
  },
  {
   "cell_type": "markdown",
   "id": "5a60d481-c56c-45ec-818d-9a62cd6f0c2a",
   "metadata": {},
   "source": [
    "<h4>Wind Information Creation, from winddata2.ipynb</h4>"
   ]
  },
  {
   "cell_type": "code",
   "execution_count": 10,
   "id": "7f4f086e-9b04-4a04-b4a3-ff37e4494a49",
   "metadata": {
    "tags": []
   },
   "outputs": [],
   "source": [
    "folder = \"data/mesonet_wind_data/\"\n",
    "files = os.listdir(folder)\n",
    "stations = [filename.strip('.csv') for filename in files]\n",
    "files = [folder+file for file in files]\n",
    "\n",
    "stationloc = {'ACRE':(40.47,-86.99),'CCCS':(38.32,-86.35),'DUNLAP':(40.43,-86.27),'DPAC':(40.25,-85.15),\n",
    "              'FPAC':(38.88,-86.55),'MARTELL':(40.44,-87.03),'NEPAC':(41.1,-85.39),'PPAC':(41.44,-86.92),\n",
    "              'SEPAC':(39.03,-85.53),'SHFPRS':(38.95,-86.78),'SIPAC':(38.45,-86.69),'SWPAC':(38.73,-87.48),'TPAC':(40.29,-86.9)}\n",
    "\n",
    "stationgeo = GeoDataFrame(stationloc.keys(),geometry = [Point((lon,lat)) for lat,lon in stationloc.values()],crs=4326)\n",
    "stationgeo = stationgeo.to_crs(epsg=3857)\n",
    "stationgeo = stationgeo.rename(columns={0:'station'})\n",
    "stationgeo = stationgeo.set_index('station')\n",
    "\n",
    "def convertDate(list_):\n",
    "    list_.remove(\"\")\n",
    "    list_ = [int(x) for x in list_]\n",
    "    \n",
    "    months = [1, 2, 3, 4, 5, 6, 7, 8, 9, 10, 11, 12]\n",
    "    days =   [31,28,31,30,31,30,31,31,30,31, 30, 31]\n",
    "    return sum(days[0:max(months.index(list_[0]),0)]) + list_[1]\n",
    "\n",
    "wind_dfs = []\n",
    "mphtoms = 0.44704 # m/s in 1 mph\n",
    "for file,station in zip(files,stations):\n",
    "    with open(file, 'rb') as rawdata:\n",
    "        result = chardet.detect(rawdata.read(1000))\n",
    "    encoding = result['encoding']\n",
    "    df = pd.read_csv(file,encoding = encoding,sep='\\t')#.drop(columns=['Date'])\n",
    "    df.index.names=['Day']\n",
    "    df = df.rename(columns = {'Stn ID':'station','Date':'day','Avg Wind Speed (mph)':'speed','Wind Direction (°)':'direction','Max Wind Gust (mph)':'gust'})\n",
    "    df['speed'] *= mphtoms\n",
    "    df['gust'] *= mphtoms\n",
    "    df['avgvect'] = list(zip(round(df['speed']*np.cos(np.deg2rad(df['direction'])),3),round(df['speed']*np.sin(np.deg2rad(df['direction'])),3)))\n",
    "    df['gustvect'] = list(zip(round(df['gust']*np.cos(np.deg2rad(df['direction'])),3),round(df['gust']*np.sin(np.deg2rad(df['direction'])),3)))\n",
    "    df['day'] = df['day'].str.replace(\"/\",\"-\").str.replace(\"2022\",\"\").str.split(\"-\").apply(convertDate)\n",
    "    wind_dfs.append(df)"
   ]
  },
  {
   "cell_type": "code",
   "execution_count": 11,
   "id": "1560bb95-e5e5-4a6f-abdd-59724d700d48",
   "metadata": {
    "tags": []
   },
   "outputs": [],
   "source": [
    "# these global parameters are for evaluating the bugs, in a small amount of cases\n",
    "# the list that contains the distances from wind stations is empty\n",
    "# current guess is the day check maybe not working. Should check length of usefulpts\n",
    "# to find where the bug is\n",
    "odzero = 0\n",
    "loczeros = []\n",
    "\n",
    "def getWindVectors(loc,day):\n",
    "    global odzero\n",
    "    global loczeros\n",
    "    #print(loc)\n",
    "    windvecs = pd.DataFrame([])\n",
    "    usefulPts = []\n",
    "    for idx,station in enumerate(wind_dfs):\n",
    "        if sum(station['day']==day) > 0:\n",
    "            usefulPts.append(stationgeo.iloc[[idx]].geometry)\n",
    "            #print(stations[idx])\n",
    "    for case in loc.values:\n",
    "        case = case[0]\n",
    "        dists = []\n",
    "        for pt in usefulPts:\n",
    "            dists.append(float(np.sqrt((pt.x-case.x)**2+(pt.y-case.y)**2)))\n",
    "        if len(dists) == 0: \n",
    "            odzero += 1\n",
    "            loczeros.append(loc)\n",
    "            return windvecs\n",
    "        idxbest = dists.index(min(dists))\n",
    "        #print(stations[idxbest])\n",
    "        row = wind_dfs[idxbest][wind_dfs[idxbest]['day']==day]\n",
    "        windvecs = pd.concat([windvecs,pd.concat([row['avgvect'],row['gustvect']],axis=1)],axis=0)\n",
    "    return windvecs.reset_index(drop=True)"
   ]
  },
  {
   "cell_type": "code",
   "execution_count": 14,
   "id": "13fdb847-876d-489d-ab96-1bfe0f04b691",
   "metadata": {
    "tags": []
   },
   "outputs": [
    {
     "data": {
      "text/html": [
       "<div>\n",
       "<style scoped>\n",
       "    .dataframe tbody tr th:only-of-type {\n",
       "        vertical-align: middle;\n",
       "    }\n",
       "\n",
       "    .dataframe tbody tr th {\n",
       "        vertical-align: top;\n",
       "    }\n",
       "\n",
       "    .dataframe thead th {\n",
       "        text-align: right;\n",
       "    }\n",
       "</style>\n",
       "<table border=\"1\" class=\"dataframe\">\n",
       "  <thead>\n",
       "    <tr style=\"text-align: right;\">\n",
       "      <th></th>\n",
       "      <th>geometry</th>\n",
       "      <th>maxODcount</th>\n",
       "      <th>minODcount</th>\n",
       "    </tr>\n",
       "    <tr>\n",
       "      <th>county</th>\n",
       "      <th></th>\n",
       "      <th></th>\n",
       "      <th></th>\n",
       "    </tr>\n",
       "  </thead>\n",
       "  <tbody>\n",
       "    <tr>\n",
       "      <th>Adams</th>\n",
       "      <td>POLYGON ((-9470194.541 4987432.387, -9470201.1...</td>\n",
       "      <td>24</td>\n",
       "      <td>11</td>\n",
       "    </tr>\n",
       "    <tr>\n",
       "      <th>Allen</th>\n",
       "      <td>POLYGON ((-9483540.524 5051390.887, -9483435.1...</td>\n",
       "      <td>301</td>\n",
       "      <td>244</td>\n",
       "    </tr>\n",
       "    <tr>\n",
       "      <th>Bartholomew</th>\n",
       "      <td>POLYGON ((-9582569.341 4753145.057, -9582570.4...</td>\n",
       "      <td>167</td>\n",
       "      <td>84</td>\n",
       "    </tr>\n",
       "    <tr>\n",
       "      <th>Benton</th>\n",
       "      <td>POLYGON ((-9743374.798 4960820.438, -9743374.7...</td>\n",
       "      <td>5</td>\n",
       "      <td>0</td>\n",
       "    </tr>\n",
       "    <tr>\n",
       "      <th>Blackford</th>\n",
       "      <td>POLYGON ((-9511786.175 4935839.563, -9511789.4...</td>\n",
       "      <td>28</td>\n",
       "      <td>14</td>\n",
       "    </tr>\n",
       "    <tr>\n",
       "      <th>...</th>\n",
       "      <td>...</td>\n",
       "      <td>...</td>\n",
       "      <td>...</td>\n",
       "    </tr>\n",
       "    <tr>\n",
       "      <th>Washington</th>\n",
       "      <td>POLYGON ((-9607734.670 4670871.008, -9607758.6...</td>\n",
       "      <td>57</td>\n",
       "      <td>17</td>\n",
       "    </tr>\n",
       "    <tr>\n",
       "      <th>Wayne</th>\n",
       "      <td>POLYGON ((-9484525.813 4847620.006, -9484525.8...</td>\n",
       "      <td>233</td>\n",
       "      <td>121</td>\n",
       "    </tr>\n",
       "    <tr>\n",
       "      <th>Wells</th>\n",
       "      <td>POLYGON ((-9487024.267 5000104.671, -9486733.9...</td>\n",
       "      <td>27</td>\n",
       "      <td>14</td>\n",
       "    </tr>\n",
       "    <tr>\n",
       "      <th>White</th>\n",
       "      <td>POLYGON ((-9695573.541 4973551.352, -9695577.9...</td>\n",
       "      <td>25</td>\n",
       "      <td>12</td>\n",
       "    </tr>\n",
       "    <tr>\n",
       "      <th>Whitley</th>\n",
       "      <td>POLYGON ((-9534744.595 5042996.656, -9534742.1...</td>\n",
       "      <td>27</td>\n",
       "      <td>11</td>\n",
       "    </tr>\n",
       "  </tbody>\n",
       "</table>\n",
       "<p>92 rows × 3 columns</p>\n",
       "</div>"
      ],
      "text/plain": [
       "                                                      geometry  maxODcount  \\\n",
       "county                                                                       \n",
       "Adams        POLYGON ((-9470194.541 4987432.387, -9470201.1...          24   \n",
       "Allen        POLYGON ((-9483540.524 5051390.887, -9483435.1...         301   \n",
       "Bartholomew  POLYGON ((-9582569.341 4753145.057, -9582570.4...         167   \n",
       "Benton       POLYGON ((-9743374.798 4960820.438, -9743374.7...           5   \n",
       "Blackford    POLYGON ((-9511786.175 4935839.563, -9511789.4...          28   \n",
       "...                                                        ...         ...   \n",
       "Washington   POLYGON ((-9607734.670 4670871.008, -9607758.6...          57   \n",
       "Wayne        POLYGON ((-9484525.813 4847620.006, -9484525.8...         233   \n",
       "Wells        POLYGON ((-9487024.267 5000104.671, -9486733.9...          27   \n",
       "White        POLYGON ((-9695573.541 4973551.352, -9695577.9...          25   \n",
       "Whitley      POLYGON ((-9534744.595 5042996.656, -9534742.1...          27   \n",
       "\n",
       "             minODcount  \n",
       "county                   \n",
       "Adams                11  \n",
       "Allen               244  \n",
       "Bartholomew          84  \n",
       "Benton                0  \n",
       "Blackford            14  \n",
       "...                 ...  \n",
       "Washington           17  \n",
       "Wayne               121  \n",
       "Wells                14  \n",
       "White                12  \n",
       "Whitley              11  \n",
       "\n",
       "[92 rows x 3 columns]"
      ]
     },
     "execution_count": 14,
     "metadata": {},
     "output_type": "execute_result"
    }
   ],
   "source": [
    "od_history"
   ]
  },
  {
   "cell_type": "code",
   "execution_count": 12,
   "id": "dfa9c35f-8368-458b-a638-a896d9a09a53",
   "metadata": {},
   "outputs": [],
   "source": [
    "daysYr = 365\n",
    "printOutput = False\n",
    "odpts = pd.DataFrame([])\n",
    "\n",
    "for countyName,countygeo,maxOD,minOD in zip(od_history.index,od_history['geometry'],od_history['maxODcount'],od_history['maxODcount']):\n",
    "    maxDays = min(maxOD,daysYr) # max number of days with OD is either max possible OD count or num of days in a year\n",
    "    numDays = random.randint(0,maxDays) # number of days that will have OD cases, minimum 1 day\n",
    "    days = random.sample(range(0,daysYr),numDays) # the actual days in which ODs will occur, sample size is the number of days we want ODs\n",
    "    \n",
    "    odYr = random.randint(minOD,maxOD) # count of OD cases that will occur annually, within historical margins\n",
    "    odRemaining = odYr # as we go through the year, variable to store leftover cases\n",
    "    \n",
    "    # We need to set a limit for max OD in a day, to prevent annual OD numbers from happening in a single day\n",
    "    # However, a single percentage will limit smaller counties to 1 case/day, whereas large counties will have too many/day\n",
    "    # Thus, we have a piecewise scale. Let N = number of cases a year, then\n",
    "    # N >= 100, max 1% of annual cases a day (roughly 1-20 cases/day on IN data)\n",
    "    # N >= 10, max 5% of annual cases a day (roughly 1-5 cases/day on IN data)\n",
    "    # N >= 0, max 30% of annual cases a day (roughly 1-3 cases/day on IN data)\n",
    "    maxODday = 0.01 if odYr>=100 else (0.05 if odYr >=10 else 0.3)\n",
    "    if printOutput: print(str(countyName)+\" has: \")\n",
    "    for day in days: # go through each day we have OD\n",
    "        if odRemaining > 0: # as long as we still have cases to left simulate for the year\n",
    "            odDay = random.randint(0,np.ceil(maxODday*odYr)) # number of cases on this day\n",
    "            odRemaining = odYr - odDay\n",
    "            if odDay == 0:\n",
    "                continue\n",
    "            else:\n",
    "                newpts = generateRandomPts(countygeo,odDay)\n",
    "                windvecs = getWindVectors(newpts,day)\n",
    "                odpts = pd.concat([odpts,pd.concat([newpts,windvecs],axis=1)],axis=0)\n",
    "                # cases for a day with location, can implement a function here\n",
    "                # to simulate a drone dispatch\n",
    "                #break\n",
    "            if printOutput: print(\"Day \"+str(day)+\", \"+str(odDay)+\" case(s). | \",end='')\n",
    "            \n",
    "        else:\n",
    "            continue\n",
    "    if printOutput: print(\"\\n\")\n",
    "    #break"
   ]
  },
  {
   "cell_type": "code",
   "execution_count": 13,
   "id": "abe022aa-1b21-4627-88a0-b94859728bc8",
   "metadata": {
    "tags": []
   },
   "outputs": [
    {
     "data": {
      "text/html": [
       "<div>\n",
       "<style scoped>\n",
       "    .dataframe tbody tr th:only-of-type {\n",
       "        vertical-align: middle;\n",
       "    }\n",
       "\n",
       "    .dataframe tbody tr th {\n",
       "        vertical-align: top;\n",
       "    }\n",
       "\n",
       "    .dataframe thead th {\n",
       "        text-align: right;\n",
       "    }\n",
       "</style>\n",
       "<table border=\"1\" class=\"dataframe\">\n",
       "  <thead>\n",
       "    <tr style=\"text-align: right;\">\n",
       "      <th></th>\n",
       "      <th>odpts</th>\n",
       "      <th>avgvect</th>\n",
       "      <th>gustvect</th>\n",
       "    </tr>\n",
       "  </thead>\n",
       "  <tbody>\n",
       "    <tr>\n",
       "      <th>0</th>\n",
       "      <td>POINT (-9463792.73979983 4998871.143744233)</td>\n",
       "      <td>(0.803, -0.056)</td>\n",
       "      <td>(6.288, -0.44)</td>\n",
       "    </tr>\n",
       "    <tr>\n",
       "      <th>0</th>\n",
       "      <td>POINT (-9451485.980655717 4973883.78680959)</td>\n",
       "      <td>NaN</td>\n",
       "      <td>NaN</td>\n",
       "    </tr>\n",
       "    <tr>\n",
       "      <th>1</th>\n",
       "      <td>POINT (-9448658.369192315 4980435.594335634)</td>\n",
       "      <td>NaN</td>\n",
       "      <td>NaN</td>\n",
       "    </tr>\n",
       "    <tr>\n",
       "      <th>0</th>\n",
       "      <td>POINT (-9463026.858623104 4979180.085369957)</td>\n",
       "      <td>(-3.808, 1.776)</td>\n",
       "      <td>(-11.344, 5.29)</td>\n",
       "    </tr>\n",
       "    <tr>\n",
       "      <th>0</th>\n",
       "      <td>POINT (-9456577.20508795 4980764.746033164)</td>\n",
       "      <td>(0.462, 0.659)</td>\n",
       "      <td>(3.385, 4.834)</td>\n",
       "    </tr>\n",
       "    <tr>\n",
       "      <th>...</th>\n",
       "      <td>...</td>\n",
       "      <td>...</td>\n",
       "      <td>...</td>\n",
       "    </tr>\n",
       "    <tr>\n",
       "      <th>0</th>\n",
       "      <td>POINT (-9526028.465638276 5021524.820725607)</td>\n",
       "      <td>(-1.127, -0.433)</td>\n",
       "      <td>(-6.052, -2.323)</td>\n",
       "    </tr>\n",
       "    <tr>\n",
       "      <th>1</th>\n",
       "      <td>POINT (-9520983.037506714 5020445.249576507)</td>\n",
       "      <td>(-1.127, -0.433)</td>\n",
       "      <td>(-6.052, -2.323)</td>\n",
       "    </tr>\n",
       "    <tr>\n",
       "      <th>0</th>\n",
       "      <td>POINT (-9511029.188644925 5027750.724340884)</td>\n",
       "      <td>(-0.313, 0.253)</td>\n",
       "      <td>(-2.258, 1.829)</td>\n",
       "    </tr>\n",
       "    <tr>\n",
       "      <th>0</th>\n",
       "      <td>POINT (-9501016.709880998 5044636.726676626)</td>\n",
       "      <td>(0.528, -0.607)</td>\n",
       "      <td>(3.226, -3.711)</td>\n",
       "    </tr>\n",
       "    <tr>\n",
       "      <th>0</th>\n",
       "      <td>POINT (-9526096.744064393 5034608.005437995)</td>\n",
       "      <td>(-0.255, -0.522)</td>\n",
       "      <td>(-1.881, -3.857)</td>\n",
       "    </tr>\n",
       "  </tbody>\n",
       "</table>\n",
       "<p>7331 rows × 3 columns</p>\n",
       "</div>"
      ],
      "text/plain": [
       "                                           odpts           avgvect  \\\n",
       "0    POINT (-9463792.73979983 4998871.143744233)   (0.803, -0.056)   \n",
       "0    POINT (-9451485.980655717 4973883.78680959)               NaN   \n",
       "1   POINT (-9448658.369192315 4980435.594335634)               NaN   \n",
       "0   POINT (-9463026.858623104 4979180.085369957)   (-3.808, 1.776)   \n",
       "0    POINT (-9456577.20508795 4980764.746033164)    (0.462, 0.659)   \n",
       "..                                           ...               ...   \n",
       "0   POINT (-9526028.465638276 5021524.820725607)  (-1.127, -0.433)   \n",
       "1   POINT (-9520983.037506714 5020445.249576507)  (-1.127, -0.433)   \n",
       "0   POINT (-9511029.188644925 5027750.724340884)   (-0.313, 0.253)   \n",
       "0   POINT (-9501016.709880998 5044636.726676626)   (0.528, -0.607)   \n",
       "0   POINT (-9526096.744064393 5034608.005437995)  (-0.255, -0.522)   \n",
       "\n",
       "            gustvect  \n",
       "0     (6.288, -0.44)  \n",
       "0                NaN  \n",
       "1                NaN  \n",
       "0    (-11.344, 5.29)  \n",
       "0     (3.385, 4.834)  \n",
       "..               ...  \n",
       "0   (-6.052, -2.323)  \n",
       "1   (-6.052, -2.323)  \n",
       "0    (-2.258, 1.829)  \n",
       "0    (3.226, -3.711)  \n",
       "0   (-1.881, -3.857)  \n",
       "\n",
       "[7331 rows x 3 columns]"
      ]
     },
     "execution_count": 13,
     "metadata": {},
     "output_type": "execute_result"
    }
   ],
   "source": [
    "odpts"
   ]
  },
  {
   "cell_type": "code",
   "execution_count": 173,
   "id": "a8770831-c9ad-4b16-88bc-ba05d6a3929a",
   "metadata": {},
   "outputs": [
    {
     "data": {
      "image/png": "[encoded data removed]",
      "text/plain": [
       "<Figure size 640x480 with 1 Axes>"
      ]
     },
     "metadata": {},
     "output_type": "display_data"
    }
   ],
   "source": [
    "filenum = len(os.listdir('data/random_ODs'))\n",
    "ax = od_history.plot()\n",
    "plt.plot([row.x for row in odpts['odpts']],[row.y for row in odpts['odpts']],'o',markersize=1,color='red')\n",
    "plt.xlabel('X Position, x [m]')\n",
    "plt.ylabel('Y Position, y [m]')\n",
    "plt.title('Randomly Simulated OD Cases for 1 Year');\n",
    "plt.savefig(\"data/random_ODs/random_ODs_\"+str(filenum+1)+\".png\")"
   ]
  },
  {
   "cell_type": "markdown",
   "id": "b7d4904f-f311-4f5f-9759-a96cc074f80c",
   "metadata": {},
   "source": [
    "We know (x,y) location of OD case, (x,y) location of fire stations,\n",
    "avg and gust wind vector, \n",
    "\n",
    "useful data: the main use is to use drone's cruise speed to evaluate effectiveness for a year of OD\n",
    "- so if we find closest station to each OD case, we can get a list of flight distances\n",
    "- then for a particular cruise speed, we can evaluate T/F for effectiveness\n",
    "- this also enables evaluation of various drone speeds, i.e. is there a critical speed \n",
    "  beyond which a large percent of OD gets covered?\n",
    "- can be used to target future performance\n",
    "\n",
    "step 1: for each point, find closest station point and record distance\n",
    "step 2: use test cruise speed + wind vector to get travel time\n",
    "- 8k od cases vs. 1.5k stations to compare to"
   ]
  },
  {
   "cell_type": "code",
   "execution_count": null,
   "id": "a02ad53d-1eaf-4fa4-b50c-58cc22a65db8",
   "metadata": {},
   "outputs": [],
   "source": []
  },
  {
   "cell_type": "markdown",
   "id": "045f5347-5ef9-499c-a137-64cff63973c9",
   "metadata": {
    "tags": []
   },
   "source": [
    "# Exporting Simulated Cases to CSV with Latitude/Longitude Format"
   ]
  },
  {
   "cell_type": "code",
   "execution_count": 16,
   "id": "8da076fc-9ad9-40a0-8aa6-2065be01cd5c",
   "metadata": {},
   "outputs": [],
   "source": [
    "odpts_latlon = odpts.copy()\n",
    "odpts_latlon = GeoDataFrame(odpts_latlon,geometry='odpts',crs=3857)"
   ]
  },
  {
   "cell_type": "code",
   "execution_count": 21,
   "id": "415c883a-b787-4198-b29a-925dba2b6628",
   "metadata": {
    "tags": []
   },
   "outputs": [],
   "source": [
    "odpts_latlon = odpts_latlon.to_crs(epsg=4326)\n",
    "odpts_latlon.to_csv('data/exportData/randomOD.csv')"
   ]
  }
 ],
 "metadata": {
  "kernelspec": {
   "display_name": "Python 3 (ipykernel)",
   "language": "python",
   "name": "python3"
  },
  "language_info": {
   "codemirror_mode": {
    "name": "ipython",
    "version": 3
   },
   "file_extension": ".py",
   "mimetype": "text/x-python",
   "name": "python",
   "nbconvert_exporter": "python",
   "pygments_lexer": "ipython3",
   "version": "3.10.4"
  }
 },
 "nbformat": 4,
 "nbformat_minor": 5
}
